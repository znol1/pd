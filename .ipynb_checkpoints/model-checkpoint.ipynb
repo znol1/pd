{
 "cells": [
  {
   "cell_type": "code",
   "execution_count": 2,
   "metadata": {
    "scrolled": false
   },
   "outputs": [
    {
     "name": "stdout",
     "output_type": "stream",
     "text": [
      "[36426114, 36603131, 37315499, 37240875, 2859834, 44147308, 46407531, 46569753, 46612671, 35201004, 41911248, 47665356, 47621801, 47666400, 47589076, 47588568, 47414388, 35804363, 47684789, 6370773, 23755859, 47692834, 46880296, 47696687, 47699720, 37948699, 46719942, 46605645, 6431119, 47492967, 46812710, 47715375, 47314476, 47716092, 46958468, 47721775, 46202675, 46495915, 1130265, 7058507, 41907119]\n"
     ]
    }
   ],
   "source": [
    "import pandas as pd\n",
    "import numpy as np\n",
    "from sklearn.tree import DecisionTreeClassifier\n",
    "import json\n",
    "import csv\n",
    "from pandas.io.json import json_normalize\n",
    "arr = pd.read_json('data11.json', encoding='utf-8')\n",
    "arr1 = arr[['id', 'experience_month_count', 'payment', 'age']]\n",
    "yn = pd.read_json('data.json', encoding='utf-8')\n",
    "yn1 = yn[['resumeId', 'status']]\n",
    "yn1 = yn1.rename(columns = {'resumeId':'id'})\n",
    "arr1 = arr1.merge(yn1)\n",
    "arrnp = np.array([])\n",
    "ynarrnp = np.array([])\n",
    "for i in range(len(arr1)):\n",
    "    arrnp = np.append(arrnp, pd.DataFrame(arr1[['experience_month_count', 'payment', 'age']][i:i+1]).to_numpy())\n",
    "    ynarrnp = np.append(ynarrnp, pd.DataFrame(arr1['status'][i:i+1]).to_numpy())\n",
    "arrnp = arrnp.reshape((int(len(arrnp)) // 3, 3))\n",
    "ynarrnp = ynarrnp.reshape((int(len(ynarrnp)), 1))\n",
    "x = arrnp\n",
    "col_mean = np.nanmean(arrnp, axis=0)\n",
    "inds = np.where(np.isnan(arrnp))\n",
    "arrnp[inds] = np.take(col_mean, inds[1])\n",
    "clf = DecisionTreeClassifier()\n",
    "clf.fit(arrnp, ynarrnp)\n",
    "test = pd.read_json('data11.json', encoding='utf-8')\n",
    "test = test[['id', 'experience_month_count', 'payment', 'age']]\n",
    "testnp = np.array([])\n",
    "for i in range(len(test)):\n",
    "    testnp = np.append(testnp, pd.DataFrame(test[['experience_month_count', 'payment', 'age']][i:i+1]).to_numpy())\n",
    "testnp = testnp.reshape((int(len(testnp)) // 3, 3))\n",
    "col_mean1 = np.nanmean(testnp, axis=0)\n",
    "inds1 = np.where(np.isnan(testnp))\n",
    "testnp[inds1] = np.take(col_mean1, inds1[1])\n",
    "x = testnp[0]\n",
    "idarr = []\n",
    "for i in range(len(test)):\n",
    "    if(clf.predict([testnp[i]]) == 1.):\n",
    "        idarr.append(arr1['id'][i])\n",
    "print(idarr)"
   ]
  },
  {
   "cell_type": "code",
   "execution_count": null,
   "metadata": {},
   "outputs": [],
   "source": []
  },
  {
   "cell_type": "code",
   "execution_count": null,
   "metadata": {},
   "outputs": [],
   "source": []
  }
 ],
 "metadata": {
  "kernelspec": {
   "display_name": "Python 3",
   "language": "python",
   "name": "python3"
  },
  "language_info": {
   "codemirror_mode": {
    "name": "ipython",
    "version": 3
   },
   "file_extension": ".py",
   "mimetype": "text/x-python",
   "name": "python",
   "nbconvert_exporter": "python",
   "pygments_lexer": "ipython3",
   "version": "3.7.4"
  }
 },
 "nbformat": 4,
 "nbformat_minor": 2
}
